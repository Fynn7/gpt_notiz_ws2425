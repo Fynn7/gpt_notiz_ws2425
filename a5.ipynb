{
 "cells": [
  {
   "cell_type": "markdown",
   "metadata": {},
   "source": [
    "# A1\n"
   ]
  },
  {
   "cell_type": "markdown",
   "metadata": {},
   "source": [
    "Listevariable mit 3 Fließkommazahlen initialisieren\n"
   ]
  },
  {
   "cell_type": "code",
   "execution_count": 2,
   "metadata": {},
   "outputs": [
    {
     "name": "stdout",
     "output_type": "stream",
     "text": [
      "[1.0, 2.0, 3.0]\n"
     ]
    }
   ],
   "source": [
    "# arr = [float(input()), float(input()), float(input())]\n",
    "a=float(input())\n",
    "b=float(input())\n",
    "c=float(input())\n",
    "arr=[a,b,c]\n",
    "\n",
    "print(arr)"
   ]
  },
  {
   "cell_type": "markdown",
   "metadata": {},
   "source": [
    "Summierung aller Elemente in einer Liste\n"
   ]
  },
  {
   "cell_type": "code",
   "execution_count": 5,
   "metadata": {},
   "outputs": [
    {
     "name": "stdout",
     "output_type": "stream",
     "text": [
      "9.0\n"
     ]
    }
   ],
   "source": [
    "arr = [3.5, 1.2, 4.3]\n",
    "sum(arr)\n",
    "\n",
    "s=0\n",
    "for zahl in arr:\n",
    "    s+=zahl\n",
    "print(s)"
   ]
  },
  {
   "cell_type": "code",
   "execution_count": 11,
   "metadata": {},
   "outputs": [
    {
     "data": {
      "text/plain": [
       "3"
      ]
     },
     "execution_count": 11,
     "metadata": {},
     "output_type": "execute_result"
    }
   ],
   "source": [
    "len(arr)"
   ]
  },
  {
   "cell_type": "markdown",
   "metadata": {},
   "source": [
    "Durchschnitt berechnen\n"
   ]
  },
  {
   "cell_type": "code",
   "execution_count": null,
   "metadata": {},
   "outputs": [
    {
     "data": {
      "text/plain": [
       "3.0"
      ]
     },
     "execution_count": 4,
     "metadata": {},
     "output_type": "execute_result"
    }
   ],
   "source": [
    "durchschnitt=sum(arr)/3\n",
    "durchschnitt"
   ]
  },
  {
   "cell_type": "markdown",
   "metadata": {},
   "source": [
    "2 Größte Zahlen in ein neues Array einpacken"
   ]
  },
  {
   "cell_type": "code",
   "execution_count": 10,
   "metadata": {},
   "outputs": [
    {
     "data": {
      "text/plain": [
       "[1.2, 3.5, 4.3]"
      ]
     },
     "execution_count": 10,
     "metadata": {},
     "output_type": "execute_result"
    }
   ],
   "source": [
    "arr.sort()\n",
    "arr"
   ]
  },
  {
   "cell_type": "code",
   "execution_count": 6,
   "metadata": {},
   "outputs": [
    {
     "data": {
      "text/plain": [
       "[1.2, 3.5, 4.3]"
      ]
     },
     "execution_count": 6,
     "metadata": {},
     "output_type": "execute_result"
    }
   ],
   "source": [
    "arr=sorted(arr)\n",
    "arr"
   ]
  },
  {
   "cell_type": "markdown",
   "metadata": {},
   "source": [
    "- Array Slicing Operator `:`"
   ]
  },
  {
   "cell_type": "code",
   "execution_count": null,
   "metadata": {},
   "outputs": [
    {
     "data": {
      "text/plain": [
       "[3.5, 4.3]"
      ]
     },
     "execution_count": 12,
     "metadata": {},
     "output_type": "execute_result"
    }
   ],
   "source": [
    "new_array = arr[-2:]\n",
    "new_array"
   ]
  },
  {
   "cell_type": "markdown",
   "metadata": {},
   "source": [
    "### Lösung\n"
   ]
  },
  {
   "cell_type": "code",
   "execution_count": 13,
   "metadata": {},
   "outputs": [
    {
     "name": "stdout",
     "output_type": "stream",
     "text": [
      "3.0\n",
      "[3.0, 4.0]\n"
     ]
    }
   ],
   "source": [
    "array = [float(input()), float(input()), float(input())]\n",
    "durchschnitt = sum(array)/len(array)\n",
    "print(durchschnitt)\n",
    "größten = sorted(array)[-2:]\n",
    "print(größten)"
   ]
  },
  {
   "cell_type": "markdown",
   "metadata": {},
   "source": [
    "# A2\n"
   ]
  },
  {
   "cell_type": "code",
   "execution_count": 3,
   "metadata": {},
   "outputs": [
    {
     "name": "stdout",
     "output_type": "stream",
     "text": [
      "Bitte geben Sie das 1te Wortpaar ein:\n",
      "Bitte geben Sie das 2te Wortpaar ein:\n",
      "Bitte geben Sie das 3te Wortpaar ein:\n",
      "[['a', 'b'], ['x', 'y'], ['e', 'r']]\n"
     ]
    }
   ],
   "source": [
    "n = int(input(\"Wie viele Wortpaare sollen eingegeben werden: \"))\n",
    "a = []\n",
    "\n",
    "for i in range(1, n+1):\n",
    "    print(\"Bitte geben Sie das \"+str(i)+\"te Wortpaar ein:\")\n",
    "    a += [[input(), input()]] \t# Liste konkatenieren\n",
    "\n",
    "print(a)"
   ]
  },
  {
   "cell_type": "markdown",
   "metadata": {},
   "source": [
    "Erstellen Sie nun ein zweites Array, in das alle Wörter des ersten Arrays übertragen werden sollen, wobei im neuen Array <u>nur Zeichenketten und keine Arrays</u> stehen sollen.\n",
    "**Dabei soll die Reihenfolge innerhalb der Wortpaare <u>unverändert</u> bleiben**, <u>**die Paare**</u>\n",
    "sollen jedoch in umgekehrter Reihenfolge im neuen Array stehen.\n"
   ]
  },
  {
   "cell_type": "code",
   "execution_count": null,
   "metadata": {},
   "outputs": [
    {
     "data": {
      "text/plain": [
       "['i', 'j', 'x', 'y', 'a', 'b']"
      ]
     },
     "execution_count": 7,
     "metadata": {},
     "output_type": "execute_result"
    }
   ],
   "source": [
    "b = []\n",
    "\n",
    "for sub_list_index in range(len(a)-1, -1, -1):\n",
    "    b += a[sub_list_index] # []+['w','v'] => ['w', 'v']\n",
    "\t\t\t\t\t\t\t# ['w', 'v']+['x', 'y'] => ['w', 'v', 'x', 'y']\n",
    "\n",
    "b"
   ]
  },
  {
   "cell_type": "code",
   "execution_count": null,
   "metadata": {},
   "outputs": [
    {
     "name": "stdout",
     "output_type": "stream",
     "text": [
      "['e', 'r']\n",
      "['x', 'y']\n",
      "['a', 'b']\n"
     ]
    },
    {
     "data": {
      "text/plain": [
       "['e', 'r', 'x', 'y', 'a', 'b']"
      ]
     },
     "execution_count": 7,
     "metadata": {},
     "output_type": "execute_result"
    }
   ],
   "source": [
    "arr2 = a[::-1]\n",
    "arr3 = []\n",
    "\n",
    "for sublist in arr2:\n",
    "    print(sublist)\n",
    "    for e in sublist:\n",
    "        arr3.append(e)\n",
    "\n",
    "arr3"
   ]
  },
  {
   "cell_type": "markdown",
   "metadata": {},
   "source": [
    "\"In dieses Array sollen die Worte so übertragen werden, dass die Reihenfolge der\n",
    "Wortpaare bestehen bleibt, sich die Reihenfolge <u>innerhalb eines Paars jedoch jeweils\n",
    "umkehrt</u>\".\n"
   ]
  },
  {
   "cell_type": "code",
   "execution_count": 12,
   "metadata": {},
   "outputs": [
    {
     "data": {
      "text/plain": [
       "['b', 'a', 'y', 'x', 'j', 'i']"
      ]
     },
     "execution_count": 12,
     "metadata": {},
     "output_type": "execute_result"
    }
   ],
   "source": [
    "c = []\n",
    "\n",
    "for sub_list_index in range(0, len(a)):\n",
    "    c += [a[sub_list_index][1]]\n",
    "    c += [a[sub_list_index][0]]\n",
    "\n",
    "c"
   ]
  },
  {
   "cell_type": "markdown",
   "metadata": {},
   "source": [
    "# A3\n"
   ]
  },
  {
   "cell_type": "code",
   "execution_count": null,
   "metadata": {},
   "outputs": [
    {
     "name": "stdout",
     "output_type": "stream",
     "text": [
      "3 + 4 = 7\n",
      "abs( 3 - 4 ) = 1\n",
      "3 * 4 = 12\n",
      "3 / 4 = 0.75\n"
     ]
    }
   ],
   "source": [
    "def add(x, y):\n",
    "    return x + y\n",
    "\n",
    "\n",
    "def diff(x, y):\n",
    "    return abs(x-y)\n",
    "\n",
    "\n",
    "def diff(x, y):\n",
    "    if x-y < 0:\n",
    "        return y-x\n",
    "    else:\n",
    "        return x-y\n",
    "\n",
    "\n",
    "def mul(x, y):\n",
    "    # x+x+x+...+x (y-mal) \n",
    "    # y+y+y+...+y (x-mal)\n",
    "    ergebnis = 0\n",
    "    negativ = False\n",
    "    if (x < 0 and y > 0) or (x > 0 and y < 0):\n",
    "        negativ = True\n",
    "    for i in range(abs(y)):\n",
    "        ergebnis += abs(x)\n",
    "    if negativ:\n",
    "        ergebnis = -ergebnis\n",
    "    return ergebnis\n",
    "\n",
    "\n",
    "def div(x, y):\n",
    "    return x / y if y != 0 else None\n",
    "\n",
    "def div(x, y):\n",
    "\tif y !=0:\n",
    "\t\treturn x/y\n",
    "\telse: return None\n",
    "\n",
    "a = int(input(\"Bitte geben Sie eine Zahl ein: \"))\n",
    "b = int(input(\"Bitte geben Sie eine weitere Zahl ein: \"))\n",
    "print(a, \"+\", b, \"=\", add(a, b))\n",
    "print(\"abs(\", a, \"-\", b, \") =\", diff(a, b))\n",
    "print(a, \"*\", b, \"=\", mul(a, b))\n",
    "print(a, \"/\", b, \"=\", div(a, b))"
   ]
  },
  {
   "cell_type": "code",
   "execution_count": null,
   "metadata": {},
   "outputs": [
    {
     "data": {
      "text/plain": [
       "11"
      ]
     },
     "execution_count": 14,
     "metadata": {},
     "output_type": "execute_result"
    }
   ],
   "source": [
    "def diff(x, y):\n",
    "    if x-y < 0:\n",
    "        return y-x\n",
    "    else:\n",
    "        return x-y\n",
    "\n",
    "\n",
    "diff(5, -6)"
   ]
  },
  {
   "cell_type": "code",
   "execution_count": null,
   "metadata": {},
   "outputs": [
    {
     "data": {
      "text/plain": [
       "0"
      ]
     },
     "execution_count": 17,
     "metadata": {},
     "output_type": "execute_result"
    }
   ],
   "source": [
    "def mul(x, y):\n",
    "    result = 0\n",
    "    for i in range(y):\n",
    "        result += x\n",
    "    return result\n",
    "\n",
    "\n",
    "mul(-5, -5)"
   ]
  },
  {
   "cell_type": "code",
   "execution_count": 11,
   "metadata": {},
   "outputs": [
    {
     "data": {
      "text/plain": [
       "[]"
      ]
     },
     "execution_count": 11,
     "metadata": {},
     "output_type": "execute_result"
    }
   ],
   "source": [
    "list(range(-11))"
   ]
  },
  {
   "cell_type": "code",
   "execution_count": 12,
   "metadata": {},
   "outputs": [
    {
     "ename": "ZeroDivisionError",
     "evalue": "division by zero",
     "output_type": "error",
     "traceback": [
      "\u001b[1;31m---------------------------------------------------------------------------\u001b[0m",
      "\u001b[1;31mZeroDivisionError\u001b[0m                         Traceback (most recent call last)",
      "Cell \u001b[1;32mIn[12], line 1\u001b[0m\n\u001b[1;32m----> 1\u001b[0m \u001b[38;5;241;43m1\u001b[39;49m\u001b[38;5;241;43m/\u001b[39;49m\u001b[38;5;241;43m0\u001b[39;49m\n",
      "\u001b[1;31mZeroDivisionError\u001b[0m: division by zero"
     ]
    }
   ],
   "source": [
    "1/0"
   ]
  },
  {
   "cell_type": "code",
   "execution_count": null,
   "metadata": {},
   "outputs": [],
   "source": []
  }
 ],
 "metadata": {
  "kernelspec": {
   "display_name": "Python 3",
   "language": "python",
   "name": "python3"
  },
  "language_info": {
   "codemirror_mode": {
    "name": "ipython",
    "version": 3
   },
   "file_extension": ".py",
   "mimetype": "text/x-python",
   "name": "python",
   "nbconvert_exporter": "python",
   "pygments_lexer": "ipython3",
   "version": "3.12.7"
  }
 },
 "nbformat": 4,
 "nbformat_minor": 2
}
