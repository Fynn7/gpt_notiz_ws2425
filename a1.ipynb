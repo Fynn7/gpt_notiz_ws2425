{
 "cells": [
  {
   "cell_type": "markdown",
   "metadata": {},
   "source": [
    "# A1"
   ]
  },
  {
   "cell_type": "code",
   "execution_count": 37,
   "metadata": {},
   "outputs": [
    {
     "name": "stdout",
     "output_type": "stream",
     "text": [
      "# NICHT KLAUSURRELEVANT, NUR ZUR ÜBERPRÜFUNG",
      "(False, False, False)\n",
      "(False, False, True)\n",
      "(False, True, False)\n",
      "(False, True, True)\n",
      "(True, False, False)\n",
      "(True, False, True)\n",
      "(True, True, False)\n",
      "(True, True, True)\n"
     ]
    }
   ],
   "source": [
    "from itertools import product\n",
    "p = product([False, True], repeat=3)\n",
    "for i in p:\n",
    "    print(i)"
   ]
  },
  {
   "cell_type": "code",
   "execution_count": 38,
   "metadata": {},
   "outputs": [],
   "source": [
    "for a, b, c in p:\n",
    "    assert ((a and a) or (b and b)) == (a or b)\n",
    "    assert ((a and b) or (a and c)) == (a and (b or c))\n",
    "    assert (not (a < b) or (a == b)) == (a >= b)\n",
    "    assert ((not (a < b) and not (a > b))) == (a == b)\n",
    "    assert ((not (a and b) and (a or b)) or (\n",
    "        (a and b) or not (a or b))) == True"
   ]
  },
  {
   "cell_type": "markdown",
   "metadata": {},
   "source": [
    "# A2 Teilbarkeit"
   ]
  },
  {
   "cell_type": "markdown",
   "metadata": {},
   "source": [
    "## 2 Fälle\n",
    "```python\n",
    "a%b == 0\n",
    "b%a == 0"
   ]
  },
  {
   "cell_type": "code",
   "execution_count": 39,
   "metadata": {},
   "outputs": [
    {
     "name": "stdout",
     "output_type": "stream",
     "text": [
      "Ob 9 durch 3 teilbar ohne Rest: True\n"
     ]
    }
   ],
   "source": [
    "a = 9\n",
    "b = 3\n",
    "\n",
    "print(\"Ob\", a, \"durch\", b, \"teilbar ohne Rest:\", a % b == 0 or b % a == 0)"
   ]
  },
  {
   "cell_type": "code",
   "execution_count": 40,
   "metadata": {},
   "outputs": [
    {
     "name": "stdout",
     "output_type": "stream",
     "text": [
      "True\n"
     ]
    }
   ],
   "source": [
    "if a % b == 0 or b % a == 0:\n",
    "    print(True)\n",
    "else:\n",
    "    print(False)"
   ]
  },
  {
   "cell_type": "markdown",
   "metadata": {},
   "source": [
    "# A3 Zeitumrechner"
   ]
  },
  {
   "cell_type": "code",
   "execution_count": 41,
   "metadata": {},
   "outputs": [
    {
     "name": "stdout",
     "output_type": "stream",
     "text": [
      "1 Jahr(e), 0 Tag(e), 1 Stunde(n), 0 Minute(n) und 2 Sekunde(n).\n"
     ]
    }
   ],
   "source": [
    "seconds = 31536000+3600+2\n",
    "\n",
    "Y = 60*60*24*365    # 31536000 Sekunden pro Jahr\n",
    "D = 60*60*24        # 86400 Sekunden pro Tag\n",
    "H = 60*60           # 3600 Sekunden pro Stunde\n",
    "M = 60              # 60 Sekunden pro Minute\n",
    "\n",
    "# s = y*Y + d*D + h*H + m*M + s\n",
    "# Beispiel: seconds = 3701\n",
    "\n",
    "# seconds=31536000+1000\n",
    "y = seconds // Y            # Anzahl der ganzen Jahre\n",
    "d = seconds % Y // D        # eliminiert alle ganzen Jahre; Alternativ: `d=(seconds-y*Y)//D`\n",
    "h = seconds % D // H   \n",
    "m = seconds % H // M\n",
    "s = seconds % M \n",
    "\n",
    "print(y, \"Jahr(e),\", d, \"Tag(e),\", h, \"Stunde(n),\",\n",
    "      m, \"Minute(n) und\", s, \"Sekunde(n).\")"
   ]
  },
  {
   "cell_type": "markdown",
   "metadata": {},
   "source": [
    "## Beispiel"
   ]
  },
  {
   "cell_type": "code",
   "execution_count": 42,
   "metadata": {},
   "outputs": [],
   "source": [
    "seconds = 3701\n",
    "# 3701 % 60 = 41 Sekunden\n",
    "# 3701 // 60 % 60 = 61 % 60 = 1 Minute als Rest\n",
    "# 61 % 60 = 1 Minute\n"
   ]
  }
 ],
 "metadata": {
  "kernelspec": {
   "display_name": "Python 3",
   "language": "python",
   "name": "python3"
  },
  "language_info": {
   "codemirror_mode": {
    "name": "ipython",
    "version": 3
   },
   "file_extension": ".py",
   "mimetype": "text/x-python",
   "name": "python",
   "nbconvert_exporter": "python",
   "pygments_lexer": "ipython3",
   "version": "3.12.7"
  }
 },
 "nbformat": 4,
 "nbformat_minor": 2
}
