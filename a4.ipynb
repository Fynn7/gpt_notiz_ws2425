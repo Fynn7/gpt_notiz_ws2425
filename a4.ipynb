{
 "cells": [
  {
   "cell_type": "markdown",
   "id": "100266d2a384836c",
   "metadata": {},
   "source": [
    "# A1"
   ]
  },
  {
   "cell_type": "markdown",
   "id": "789d8bff",
   "metadata": {},
   "source": [
    "### `\\t` (Tabstopp): \n",
    "- aktuelle Zelle ausfüllen\n",
    "- Cursor springt zur nächsten Zelle."
   ]
  },
  {
   "cell_type": "code",
   "execution_count": 21,
   "id": "fa0428688e0ab314",
   "metadata": {},
   "outputs": [
    {
     "name": "stdout",
     "output_type": "stream",
     "text": [
      "S1\tS2\tS3\n",
      "Apple\tBanana\tCherry\n"
     ]
    }
   ],
   "source": [
    "print(\"S1\\tS2\\tS3\")\n",
    "print(\"Apple\\tBanana\\tCherry\")"
   ]
  },
  {
   "cell_type": "markdown",
   "id": "18a7cd45",
   "metadata": {},
   "source": [
    "### Miniprogramm mit Beispieleingaben 5 9\n"
   ]
  },
  {
   "cell_type": "markdown",
   "id": "8bdfaeda",
   "metadata": {},
   "source": [
    "Erste Zeile"
   ]
  },
  {
   "cell_type": "code",
   "execution_count": 1,
   "id": "80509f1f",
   "metadata": {},
   "outputs": [
    {
     "name": "stdout",
     "output_type": "stream",
     "text": [
      "\t5\t6\t7\t8\t9\t\n"
     ]
    }
   ],
   "source": [
    "print(\"\\t\",end=\"\")\n",
    "for x in range(5, 9+1):\n",
    "    print(x, end=\"\\t\")\n",
    "print()"
   ]
  },
  {
   "cell_type": "markdown",
   "id": "5f518936",
   "metadata": {},
   "source": [
    "Ab 2. Zeile"
   ]
  },
  {
   "cell_type": "code",
   "execution_count": 23,
   "id": "df057c9e",
   "metadata": {},
   "outputs": [
    {
     "name": "stdout",
     "output_type": "stream",
     "text": [
      "\t5\t6\t7\t8\t9\t\n",
      "5\t25\t30\t35\t40\t45\t\n",
      "6\t30\t36\t42\t48\t54\t\n"
     ]
    }
   ],
   "source": [
    "print(\"\\t\",end=\"\")\n",
    "for x in range(5, 9+1):\n",
    "    print(x, end=\"\\t\")\n",
    "print()\n",
    "# 2. Zeile\n",
    "print(5, end=\"\\t\")\n",
    "for  in range(5, 9+1):\n",
    "    print(5*col, end=\"\\t\")\n",
    "print()\n",
    "\n",
    "\n",
    "# 3. Zeile\n",
    "\n",
    "print(6, end=\"\\t\")\n",
    "for col in range(5, 9+1):\n",
    "    print(6*col, end=\"\\t\")\n",
    "print()\n",
    "\n",
    "# 4,5,6. Zeile ..."
   ]
  },
  {
   "cell_type": "markdown",
   "id": "dc25fcf0",
   "metadata": {},
   "source": [
    "#### In eine Funktion einpacken"
   ]
  },
  {
   "cell_type": "code",
   "execution_count": 27,
   "id": "40ce4e50",
   "metadata": {},
   "outputs": [
    {
     "name": "stdout",
     "output_type": "stream",
     "text": [
      "7\t35\t42\t49\t56\t63\t\n"
     ]
    }
   ],
   "source": [
    "def print_row(row):\n",
    "    print(row, end=\"\\t\")\n",
    "    for col in range(5, 10):\n",
    "        print(row*col, end=\"\\t\")\n",
    "    print()\n",
    "\n",
    "\n",
    "print_row(row=7)"
   ]
  },
  {
   "cell_type": "code",
   "execution_count": 29,
   "id": "d97d0e64",
   "metadata": {},
   "outputs": [
    {
     "name": "stdout",
     "output_type": "stream",
     "text": [
      "\t5\t6\t7\t8\t9\t\n",
      "5\t25\t30\t35\t40\t45\t\n",
      "6\t30\t36\t42\t48\t54\t\n",
      "7\t35\t42\t49\t56\t63\t\n",
      "8\t40\t48\t56\t64\t72\t\n",
      "9\t45\t54\t63\t72\t81\t\n"
     ]
    }
   ],
   "source": [
    "print(\"\\t\",end=\"\")\n",
    "for x in range(5, 9+1):\n",
    "    print(x, end=\"\\t\")\n",
    "print()\n",
    "for row in range(5, 10):\n",
    "    print_row(row=row)"
   ]
  },
  {
   "cell_type": "markdown",
   "id": "04fa5318",
   "metadata": {},
   "source": [
    "### Lösung mit Bespieleingabe 5 9 (Funktion-Version)"
   ]
  },
  {
   "cell_type": "code",
   "execution_count": null,
   "id": "0ad09e96",
   "metadata": {},
   "outputs": [],
   "source": [
    "import sys\n",
    "\n",
    "a = int(sys.argv[1])\n",
    "b = int(sys.argv[2])\n",
    "\n",
    "\n",
    "def print_row(row):\n",
    "    print(row, end=\"\\t\")\n",
    "    for col in range(a, b+1):\n",
    "        print(row*col, end=\"\\t\")\n",
    "    print()\n",
    "\n",
    "\n",
    "print(\"\\t\", end=\"\")\n",
    "\n",
    "for x in range(a, b+1):\n",
    "    print(x, end=\"\\t\")\n",
    "print()\n",
    "\n",
    "for row in range(a, b+1):\n",
    "    print_row(row=row)"
   ]
  },
  {
   "cell_type": "markdown",
   "id": "c56b8adc",
   "metadata": {},
   "source": [
    "### Lösung mit Bespieleingabe 5 9"
   ]
  },
  {
   "cell_type": "code",
   "execution_count": null,
   "id": "21348f3a",
   "metadata": {},
   "outputs": [],
   "source": [
    "import sys\n",
    "\n",
    "a = int(sys.argv[1])\n",
    "b = int(sys.argv[2])\n",
    "\n",
    "print(\"\\t\", end=\"\")\n",
    "\n",
    "for x in range(a, b+1):\n",
    "    print(x, end=\"\\t\")\n",
    "print()\n",
    "\n",
    "for row in range(a, b+1):\n",
    "    print(row, end=\"\\t\")\n",
    "    for col in range(a, b+1):\n",
    "        print(row*col, end=\"\\t\")\n",
    "    print()"
   ]
  },
  {
   "cell_type": "markdown",
   "id": "ed182ff14acd771b",
   "metadata": {},
   "source": [
    "# A2"
   ]
  },
  {
   "cell_type": "markdown",
   "id": "10ed7c136493608b",
   "metadata": {},
   "source": [
    "```python\n",
    "l = [42,True,\"Python\",[],None]\n",
    "\n",
    "\n",
    "```\n",
    "| 42 | <b>True</b> | \"Python\" | [] | None |\n",
    "|----|----|----|----|----|\n",
    "|`l[0]`|`l[1]`|`l[2]`|`l[3]`|`l[4]`|\n",
    "|`l[-5]`|`l[-4]`|`l[-3]`|`l[-2]`|`l[-1]`|"
   ]
  },
  {
   "cell_type": "code",
   "execution_count": 31,
   "id": "initial_id",
   "metadata": {
    "ExecuteTime": {
     "end_time": "2024-11-19T22:50:33.527329Z",
     "start_time": "2024-11-19T22:50:33.518454Z"
    },
    "collapsed": true
   },
   "outputs": [
    {
     "data": {
      "text/plain": [
       "'Apple'"
      ]
     },
     "execution_count": 31,
     "metadata": {},
     "output_type": "execute_result"
    }
   ],
   "source": [
    "l = [\"Apple\",\"Banana\",\"Cherry\",\"Date\",\"Elderberry\"]\n",
    "\n",
    "l[0]"
   ]
  },
  {
   "cell_type": "code",
   "execution_count": 33,
   "id": "777c92cfefa0a82a",
   "metadata": {},
   "outputs": [],
   "source": [
    "# l[7]"
   ]
  },
  {
   "cell_type": "code",
   "execution_count": null,
   "id": "cde1cf12bb82841",
   "metadata": {
    "ExecuteTime": {
     "end_time": "2024-11-19T22:58:07.600265Z",
     "start_time": "2024-11-19T22:58:07.595Z"
    }
   },
   "outputs": [
    {
     "data": {
      "text/plain": [
       "'Date'"
      ]
     },
     "execution_count": 7,
     "metadata": {},
     "output_type": "execute_result"
    }
   ],
   "source": [
    "l[-2]"
   ]
  },
  {
   "cell_type": "code",
   "execution_count": null,
   "id": "c8eb3bfeb003bd5c",
   "metadata": {
    "ExecuteTime": {
     "end_time": "2024-11-19T22:58:16.597272Z",
     "start_time": "2024-11-19T22:58:16.593278Z"
    }
   },
   "outputs": [],
   "source": [
    "# l[-7]"
   ]
  },
  {
   "cell_type": "markdown",
   "id": "ce56d4e9df2fd3fd",
   "metadata": {},
   "source": [
    "# A3"
   ]
  },
  {
   "cell_type": "markdown",
   "id": "515ed599",
   "metadata": {},
   "source": [
    "### Dreihereihe von 3 bis 30 einschließlich erstellen"
   ]
  },
  {
   "cell_type": "code",
   "execution_count": 34,
   "id": "4afc438e",
   "metadata": {},
   "outputs": [
    {
     "data": {
      "text/plain": [
       "[3, 6, 9, 12, 15, 18, 21, 24, 27, 30]"
      ]
     },
     "execution_count": 34,
     "metadata": {},
     "output_type": "execute_result"
    }
   ],
   "source": [
    "a = list(range(3, 31, 3))\n",
    "a"
   ]
  },
  {
   "cell_type": "markdown",
   "id": "a1a369f5",
   "metadata": {},
   "source": [
    "- Negative Werte als Argument 3. Parameter in `range()` Funktion => Umkehren\n"
   ]
  },
  {
   "cell_type": "code",
   "execution_count": null,
   "id": "7a360805a95511d5",
   "metadata": {},
   "outputs": [
    {
     "data": {
      "text/plain": [
       "[30, 27, 24, 21, 18, 15, 12, 9, 6, 3]"
      ]
     },
     "execution_count": 10,
     "metadata": {},
     "output_type": "execute_result"
    }
   ],
   "source": [
    "a = list(range(30, 0, -3))\n",
    "a"
   ]
  },
  {
   "cell_type": "markdown",
   "id": "5c778bcd",
   "metadata": {},
   "source": [
    "### Nicht-inplace Umkehren"
   ]
  },
  {
   "cell_type": "markdown",
   "id": "d6a023a3",
   "metadata": {},
   "source": [
    "```python\n",
    "list.append()\n",
    "```\n",
    "- 1 Element **am Ende** der Liste hinzufügen"
   ]
  },
  {
   "cell_type": "code",
   "execution_count": null,
   "id": "b4dd1a96",
   "metadata": {},
   "outputs": [
    {
     "name": "stdout",
     "output_type": "stream",
     "text": [
      "[30, 27, 24, 21, 18, 15, 12, 9, 6, 3]\n"
     ]
    }
   ],
   "source": [
    "a = list(range(3, 31, 3))\n",
    "b = []\n",
    "for i in range(len(a)):\n",
    "    b.append(a[-i-1])\n",
    "print(b)"
   ]
  },
  {
   "cell_type": "code",
   "execution_count": null,
   "id": "d4ae7725",
   "metadata": {},
   "outputs": [
    {
     "data": {
      "text/plain": [
       "[30, 27, 24, 21, 18, 15, 12, 9, 6, 3]"
      ]
     },
     "execution_count": 12,
     "metadata": {},
     "output_type": "execute_result"
    }
   ],
   "source": [
    "a = list(range(3, 31, 3))\n",
    "b = []\n",
    "for i in range(len(a)-1, -1, -1):\n",
    "    b.append(a[i])\n",
    "\n",
    "b"
   ]
  },
  {
   "cell_type": "markdown",
   "id": "08bcaf47",
   "metadata": {},
   "source": [
    "### Inplace Umkehren\n",
    "- inplace: Datenstruktur wird direkt geändert, kein zusätzlicher Platz notwendig"
   ]
  },
  {
   "cell_type": "code",
   "execution_count": null,
   "id": "0907474d",
   "metadata": {},
   "outputs": [],
   "source": [
    "l = list(range(3, 31, 3))\n",
    "\n",
    "for i in range(len(l) // 2):\n",
    "    temp = l[i]\n",
    "    l[i] = l[-i-1]\n",
    "    l[-i-1] = temp\n",
    "\n",
    "for e in l:\n",
    "    print(e)"
   ]
  },
  {
   "cell_type": "markdown",
   "id": "17a0aca6",
   "metadata": {},
   "source": [
    "### Swap Funktion (inplace)"
   ]
  },
  {
   "cell_type": "code",
   "execution_count": null,
   "id": "4cbe7612",
   "metadata": {},
   "outputs": [],
   "source": [
    "def normal_swap(i, j, a):\n",
    "    temp = a[i]\n",
    "    a[i] = a[j]\n",
    "    a[j] = temp"
   ]
  },
  {
   "cell_type": "markdown",
   "id": "ac30e4aa",
   "metadata": {},
   "source": [
    "### schöne Alternative mit \"Tuple entpacken\""
   ]
  },
  {
   "cell_type": "code",
   "execution_count": null,
   "id": "40843520",
   "metadata": {},
   "outputs": [
    {
     "data": {
      "text/plain": [
       "(1, 2)"
      ]
     },
     "execution_count": 15,
     "metadata": {},
     "output_type": "execute_result"
    }
   ],
   "source": [
    "1, 2  # Syntax Sugar => (1,2)"
   ]
  },
  {
   "cell_type": "code",
   "execution_count": null,
   "id": "af64ff00",
   "metadata": {},
   "outputs": [
    {
     "data": {
      "text/plain": [
       "(7, 42)"
      ]
     },
     "execution_count": 16,
     "metadata": {},
     "output_type": "execute_result"
    }
   ],
   "source": [
    "x = 42\n",
    "y = 7\n",
    "x, y = y, x  # Swap the values of x and y\n",
    "x, y"
   ]
  },
  {
   "cell_type": "code",
   "execution_count": null,
   "id": "70962560",
   "metadata": {},
   "outputs": [
    {
     "data": {
      "text/plain": [
       "(None, True)"
      ]
     },
     "execution_count": 17,
     "metadata": {},
     "output_type": "execute_result"
    }
   ],
   "source": [
    "x, y = None, True   # erneut zuweisen\n",
    "x, y"
   ]
  },
  {
   "cell_type": "code",
   "execution_count": null,
   "id": "b5108148",
   "metadata": {},
   "outputs": [],
   "source": [
    "def swap_with_tuple_unpacking(i, j, a):\n",
    "    a[i], a[j] = a[j], a[i]"
   ]
  },
  {
   "cell_type": "markdown",
   "id": "1bb13288",
   "metadata": {},
   "source": [
    "### Lösung (Funktion-Version)"
   ]
  },
  {
   "cell_type": "code",
   "execution_count": 35,
   "id": "8ec3969e",
   "metadata": {},
   "outputs": [
    {
     "name": "stdout",
     "output_type": "stream",
     "text": [
      "30\n",
      "27\n",
      "24\n",
      "21\n",
      "18\n",
      "15\n",
      "12\n",
      "9\n",
      "6\n",
      "3\n"
     ]
    }
   ],
   "source": [
    "l = list(range(3, 31, 3))\n",
    "\n",
    "for i in range(len(l) // 2):\n",
    "    l[i], l[-i-1] = l[-i-1], l[i]\n",
    "\n",
    "for e in l:\n",
    "    print(e)"
   ]
  },
  {
   "cell_type": "code",
   "execution_count": null,
   "id": "0a49187b",
   "metadata": {},
   "outputs": [],
   "source": []
  }
 ],
 "metadata": {
  "kernelspec": {
   "display_name": "Python 3",
   "language": "python",
   "name": "python3"
  },
  "language_info": {
   "codemirror_mode": {
    "name": "ipython",
    "version": 3
   },
   "file_extension": ".py",
   "mimetype": "text/x-python",
   "name": "python",
   "nbconvert_exporter": "python",
   "pygments_lexer": "ipython3",
   "version": "3.12.8"
  }
 },
 "nbformat": 4,
 "nbformat_minor": 5
}
