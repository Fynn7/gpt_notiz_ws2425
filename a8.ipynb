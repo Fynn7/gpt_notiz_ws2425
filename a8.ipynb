{
 "cells": [
  {
   "cell_type": "markdown",
   "metadata": {},
   "source": [
    "# Quersumme (Cross Sum)"
   ]
  },
  {
   "cell_type": "markdown",
   "metadata": {},
   "source": [
    "Die Quersumme einer Zahl ist die Summe der Ziffern dieser Zahl."
   ]
  },
  {
   "cell_type": "markdown",
   "metadata": {},
   "source": [
    "#### Lösung mit `%` Operator (Musterlösung)"
   ]
  },
  {
   "cell_type": "code",
   "execution_count": null,
   "metadata": {},
   "outputs": [
    {
     "name": "stdout",
     "output_type": "stream",
     "text": [
      "135 => 0 + 5 + 3 + 1 = 9\n"
     ]
    },
    {
     "data": {
      "text/plain": [
       "9"
      ]
     },
     "execution_count": 5,
     "metadata": {},
     "output_type": "execute_result"
    }
   ],
   "source": [
    "def cross_sum(n):\n",
    "    s = 0\n",
    "    while n > 0:\n",
    "        s += n % 10\n",
    "        n //= 10\n",
    "    return s\n",
    "\n",
    "# Beispiel:\n",
    "\n",
    "# 1. Iteration:\n",
    "# 135 % 10 = 5 => kleinstes Ziffer\n",
    "# 135 //= 10 = 13 => Rest\n",
    "\n",
    "# 2. Iteration:\n",
    "# 13 % 10 = 3 => kleinstes Ziffer\n",
    "# 13 //= 10 = 1 => Rest\n",
    "\n",
    "# 3. Iteration:\n",
    "# 1 % 10 = 1 => kleinstes Ziffer\n",
    "# 1 //= 10 = 0 => Rest\n",
    "\n",
    "# Beende die Schleife, wenn n = 0\n",
    "\n",
    "def cross_sum_print_version(n):\n",
    "    print(n,\"=>\", end=\" \")\n",
    "    s = 0\n",
    "    print(\"0\", end=\" \")\n",
    "    while n > 0:\n",
    "        print(\"+\", n % 10, end=\" \")\n",
    "        s += n % 10\n",
    "        # n //= 10\n",
    "        n = n // 10\n",
    "    print(\"=\", s)\n",
    "    return s\n",
    "\n",
    "cross_sum_print_version(135)"
   ]
  },
  {
   "cell_type": "markdown",
   "metadata": {},
   "source": [
    "#### Noch einen Weg durch String handeling"
   ]
  },
  {
   "cell_type": "code",
   "execution_count": 2,
   "metadata": {
    "ExecuteTime": {
     "end_time": "2024-12-17T17:57:29.402505Z",
     "start_time": "2024-12-17T17:57:29.394850Z"
    }
   },
   "outputs": [
    {
     "data": {
      "text/plain": [
       "9"
      ]
     },
     "execution_count": 2,
     "metadata": {},
     "output_type": "execute_result"
    }
   ],
   "source": [
    "def cross_sum_str(n):\n",
    "    s = 0\n",
    "    for digit in str(n): # \"135\"\n",
    "        s += int(digit)\n",
    "    return s\n",
    "\n",
    "\n",
    "cross_sum_str(135)"
   ]
  },
  {
   "cell_type": "markdown",
   "metadata": {},
   "source": [
    "# Primfaktorzerlegung"
   ]
  },
  {
   "cell_type": "code",
   "execution_count": null,
   "metadata": {
    "ExecuteTime": {
     "end_time": "2024-12-17T19:01:01.594198Z",
     "start_time": "2024-12-17T19:01:01.586242Z"
    }
   },
   "outputs": [
    {
     "data": {
      "text/plain": [
       "[3, 3, 3, 5]"
      ]
     },
     "execution_count": 3,
     "metadata": {},
     "output_type": "execute_result"
    }
   ],
   "source": [
    "def prime_factor(n):\n",
    "    prime_numbers = []  # Sammlung aller zerlegten Primzahlen\n",
    "    factor = 2\n",
    "    while n > 1:\n",
    "        if n % factor == 0:\n",
    "            prime_numbers.append(factor)\n",
    "            n //= factor    # Faktor entfernen\n",
    "                            # Äquivalent zu `n = n // factor`\n",
    "            factor = 2\n",
    "        else:\n",
    "            factor += 1\n",
    "    return prime_numbers\n",
    "\n",
    "\n",
    "prime_factor(135)\n",
    "# 135 = 3 * 3 * 3 * 5"
   ]
  },
  {
   "cell_type": "markdown",
   "metadata": {},
   "source": [
    "# Perfekte Zahl"
   ]
  },
  {
   "cell_type": "markdown",
   "metadata": {},
   "source": [
    "Eine perfekte Zahl ist eine Zahl, die gleich der Summe ihrer Teiler ist, z.B. 6 = 1+2+3."
   ]
  },
  {
   "cell_type": "code",
   "execution_count": 6,
   "metadata": {},
   "outputs": [
    {
     "data": {
      "text/plain": [
       "True"
      ]
     },
     "execution_count": 6,
     "metadata": {},
     "output_type": "execute_result"
    }
   ],
   "source": [
    "def perfect_number(n):\n",
    "    sum_of_primes = 0\n",
    "    for i in range(1, n):\n",
    "        if n % i == 0:\n",
    "            sum_of_primes += i\n",
    "    return n == sum_of_primes\n",
    "\n",
    "c=0\n",
    "for i in range(1, 1000):\n",
    "    if perfect_number(i):\n",
    "        print(i,\"is a perfect number\")\n",
    "        c+=1\n",
    "    if c==5:\n",
    "        break\n",
    "\n",
    "perfect_numbers=[]\n",
    "for i in range(1, 1000):\n",
    "    if perfect_number(i):\n",
    "        print(i,\"is a perfect number\")\n",
    "        perfect_numbers.append(i)\n",
    "    if len(perfect_numbers) == 5:\n",
    "        break"
   ]
  },
  {
   "cell_type": "markdown",
   "metadata": {},
   "source": [
    "Klausur Sommer 24 Aufgabe 5a)"
   ]
  },
  {
   "cell_type": "code",
   "execution_count": null,
   "metadata": {},
   "outputs": [],
   "source": [
    "def kleiner(u1, u2):\n",
    "    if u1[0] < u2[0]:\n",
    "        return True\n",
    "    elif u1[0] > u2[0]:\n",
    "        return False\n",
    "    else:\n",
    "        if u1[1] < u2[1]:\n",
    "            return True\n",
    "        elif u1[1] > u2[1]:\n",
    "            return False\n",
    "        else:\n",
    "            if u1[2] < u2[2]:\n",
    "                return True\n",
    "            else:\n",
    "                return False\n",
    "\n",
    "\n",
    "def kleiner(u1, u2):\n",
    "    for i in range(0, 3):\n",
    "        if u1[i] < u2[i]:\n",
    "            return True\n",
    "        elif u1[i] > u2[i]:\n",
    "            return False\n",
    "    return False"
   ]
  },
  {
   "cell_type": "code",
   "execution_count": 14,
   "metadata": {},
   "outputs": [
    {
     "data": {
      "text/plain": [
       "False"
      ]
     },
     "execution_count": 14,
     "metadata": {},
     "output_type": "execute_result"
    }
   ],
   "source": [
    "uhrzeit1 = [16, 11, 22]\n",
    "uhrzeit2 = [16, 33, 0]\n",
    "\n",
    "kleiner(uhrzeit1, uhrzeit2)"
   ]
  },
  {
   "cell_type": "code",
   "execution_count": 16,
   "metadata": {},
   "outputs": [
    {
     "data": {
      "text/plain": [
       "'abc'"
      ]
     },
     "execution_count": 16,
     "metadata": {},
     "output_type": "execute_result"
    }
   ],
   "source": [
    "\"a\"+\"b\"+\"c\""
   ]
  },
  {
   "cell_type": "code",
   "execution_count": 28,
   "metadata": {},
   "outputs": [],
   "source": [
    "def ausgabe(uhrzeit):\n",
    "    if 0 <= uhrzeit[0] < 24 and 0 <= uhrzeit[1] < 60 and 0 <= uhrzeit[2] < 60:\n",
    "        stunden = str(uhrzeit[0])\n",
    "        minuten = str(uhrzeit[1])\n",
    "        sekunden = str(uhrzeit[2])\n",
    "\n",
    "        if len(minuten) == 1:\n",
    "            minuten = \"0\"+minuten\n",
    "        if len(sekunden) == 1:\n",
    "            sekunden = \"0\"+sekunden\n",
    "\n",
    "        uhrzeit_str = stunden+\":\"+minuten+\":\"+sekunden\n",
    "        return uhrzeit_str\n",
    "    else:\n",
    "        return \"99:99:99\""
   ]
  },
  {
   "cell_type": "code",
   "execution_count": 29,
   "metadata": {},
   "outputs": [
    {
     "data": {
      "text/plain": [
       "'99:99:99'"
      ]
     },
     "execution_count": 29,
     "metadata": {},
     "output_type": "execute_result"
    }
   ],
   "source": [
    "ausgabe([1,2,333])\n"
   ]
  },
  {
   "cell_type": "code",
   "execution_count": null,
   "metadata": {},
   "outputs": [],
   "source": [
    "def ausgabe(uhrzeit):\n",
    "    if  uhrzeit[0] > 23 or uhrzeit[0]<0 or uhrzeit[1] > 59 or uhrzeit[1]<0 or uhrzeit[2] > 59 or uhrzeit[2]<0:\n",
    "        return \"99:99:99\"\n",
    "\n",
    "    stunden = str(uhrzeit[0])\n",
    "    minuten = str(uhrzeit[1])\n",
    "    sekunden = str(uhrzeit[2])\n",
    "\n",
    "    if len(minuten) == 1:\n",
    "        minuten = \"0\"+minuten\n",
    "    if len(sekunden) == 1:\n",
    "        sekunden = \"0\"+sekunden\n",
    "\n",
    "    uhrzeit_str = stunden+\":\"+minuten+\":\"+sekunden\n",
    "    return uhrzeit_str"
   ]
  },
  {
   "cell_type": "code",
   "execution_count": 30,
   "metadata": {},
   "outputs": [
    {
     "data": {
      "text/plain": [
       "'99:99:99'"
      ]
     },
     "execution_count": 30,
     "metadata": {},
     "output_type": "execute_result"
    }
   ],
   "source": [
    "ausgabe([1,2,333])\n"
   ]
  },
  {
   "cell_type": "code",
   "execution_count": null,
   "metadata": {},
   "outputs": [],
   "source": []
  }
 ],
 "metadata": {
  "kernelspec": {
   "display_name": "Python 3",
   "language": "python",
   "name": "python3"
  },
  "language_info": {
   "codemirror_mode": {
    "name": "ipython",
    "version": 3
   },
   "file_extension": ".py",
   "mimetype": "text/x-python",
   "name": "python",
   "nbconvert_exporter": "python",
   "pygments_lexer": "ipython3",
   "version": "3.12.8"
  }
 },
 "nbformat": 4,
 "nbformat_minor": 2
}
