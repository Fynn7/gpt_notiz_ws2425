{
 "cells": [
  {
   "cell_type": "markdown",
   "metadata": {},
   "source": [
    "# A1"
   ]
  },
  {
   "cell_type": "code",
   "execution_count": 4,
   "metadata": {},
   "outputs": [
    {
     "data": {
      "text/plain": [
       "'\\nfib(5)\\n=fib(4)+fib(3)\\n=fib(3)+fib(2)+fib(2)+fib(1)\\n=fib(2)+fib(1)+fib(2)+fib(2)+fib(1)\\n=1+1+1+1+1=5\\n'"
      ]
     },
     "execution_count": 4,
     "metadata": {},
     "output_type": "execute_result"
    }
   ],
   "source": [
    "def fib(n):\n",
    "    if n <= 2: # fib(1) = 1, fib(2) = 1\n",
    "        return 1\n",
    "    else:\n",
    "        return fib(n-1)+fib(n-2)\n",
    "    \n",
    "fib(5) \n",
    "'''\n",
    "fib(5)\n",
    "=fib(4)+fib(3)\n",
    "=fib(3)+fib(2)+fib(2)+fib(1)\n",
    "=fib(2)+fib(1)+fib(2)+fib(2)+fib(1)\n",
    "=1+1+1+1+1=5\n",
    "'''\n"
   ]
  },
  {
   "cell_type": "markdown",
   "metadata": {},
   "source": [
    "![Fibonacci Tree](fib.png \"Fibonacci Tree\")"
   ]
  },
  {
   "cell_type": "markdown",
   "metadata": {},
   "source": [
    "# A2"
   ]
  },
  {
   "cell_type": "code",
   "execution_count": 5,
   "metadata": {},
   "outputs": [],
   "source": [
    "def sum_inputs():\n",
    "    i = int(input(\"Ganzzahl eingeben, Eingabe 0 beendet das Programm:\"))\n",
    "    if i == 0:\n",
    "        return 0\n",
    "    else:\n",
    "        teil_ergebnis=i + sum_inputs()\n",
    "        print(i,\"erhalten. Summe bisher:\",teil_ergebnis)\n",
    "        return teil_ergebnis\n",
    "    \n",
    "\n",
    "def sum_inputs_while():\n",
    "    summe=0\n",
    "    while True:\n",
    "        i = int(input(\"Ganzzahl eingeben, Eingabe 0 beendet das Programm:\"))\n",
    "        if i == 0:\n",
    "            return summe\n",
    "        else:\n",
    "            summe+=i\n",
    "            print(i,\"erhalten. Summe bisher:\",summe)"
   ]
  },
  {
   "cell_type": "code",
   "execution_count": 6,
   "metadata": {},
   "outputs": [
    {
     "name": "stdout",
     "output_type": "stream",
     "text": [
      "3 erhalten. Summe bisher: 3\n",
      "2 erhalten. Summe bisher: 5\n",
      "1 erhalten. Summe bisher: 6\n"
     ]
    },
    {
     "data": {
      "text/plain": [
       "6"
      ]
     },
     "execution_count": 6,
     "metadata": {},
     "output_type": "execute_result"
    }
   ],
   "source": [
    "sum_inputs()"
   ]
  },
  {
   "cell_type": "code",
   "execution_count": null,
   "metadata": {},
   "outputs": [],
   "source": []
  }
 ],
 "metadata": {
  "kernelspec": {
   "display_name": "Python 3",
   "language": "python",
   "name": "python3"
  },
  "language_info": {
   "codemirror_mode": {
    "name": "ipython",
    "version": 3
   },
   "file_extension": ".py",
   "mimetype": "text/x-python",
   "name": "python",
   "nbconvert_exporter": "python",
   "pygments_lexer": "ipython3",
   "version": "3.12.8"
  }
 },
 "nbformat": 4,
 "nbformat_minor": 2
}
