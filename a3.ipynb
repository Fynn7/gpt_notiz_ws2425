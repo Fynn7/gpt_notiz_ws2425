{
 "cells": [
  {
   "cell_type": "markdown",
   "metadata": {},
   "source": [
    "# A1 Primzahltester"
   ]
  },
  {
   "cell_type": "code",
   "execution_count": null,
   "metadata": {
    "ExecuteTime": {
     "end_time": "2024-11-17T13:38:58.857715Z",
     "start_time": "2024-11-17T13:38:58.854072Z"
    }
   },
   "outputs": [],
   "source": [
    "n = 10\n",
    "is_prime = True\n",
    "\n",
    "if n <= 1: # Vorbedingung nicht erfüllt\n",
    "    is_prime = False\n",
    "else:\n",
    "    for i in range(2, n):\n",
    "        if n % i == 0:\n",
    "            is_prime = False\n",
    "            break # Optimierung:\n",
    "        # wenn n durch i teilbar ist,\n",
    "        #  dann ist n nicht prim\n",
    "print(is_prime)"
   ]
  },
  {
   "cell_type": "markdown",
   "metadata": {},
   "source": [
    "# A2"
   ]
  },
  {
   "cell_type": "code",
   "execution_count": null,
   "metadata": {
    "ExecuteTime": {
     "end_time": "2024-11-17T13:39:05.020102Z",
     "start_time": "2024-11-17T13:38:58.910625Z"
    }
   },
   "outputs": [],
   "source": [
    "s = 0.0\n",
    "\n",
    "\n",
    "while True:\n",
    "    if n == 0:\n",
    "        break\n",
    "    n = float(input('''Bitte geben\n",
    "                        Sie eine \n",
    "                    Kommazahl ein: '''))\n",
    "    s += n\n",
    "\n",
    "print(\"Summe: \", s)"
   ]
  },
  {
   "cell_type": "code",
   "execution_count": null,
   "metadata": {},
   "outputs": [],
   "source": []
  }
 ],
 "metadata": {
  "kernelspec": {
   "display_name": "Python 3",
   "language": "python",
   "name": "python3"
  },
  "language_info": {
   "codemirror_mode": {
    "name": "ipython",
    "version": 3
   },
   "file_extension": ".py",
   "mimetype": "text/x-python",
   "name": "python",
   "nbconvert_exporter": "python",
   "pygments_lexer": "ipython3",
   "version": "3.12.7"
  }
 },
 "nbformat": 4,
 "nbformat_minor": 2
}
