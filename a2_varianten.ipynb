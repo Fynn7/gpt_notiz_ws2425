{
 "cells": [
  {
   "cell_type": "markdown",
   "metadata": {},
   "source": [
    "# A1 Variant"
   ]
  },
  {
   "cell_type": "code",
   "execution_count": null,
   "metadata": {},
   "outputs": [],
   "source": [
    "import sys\n",
    "\n",
    "a = int(sys.argv[1])\n",
    "b = int(sys.argv[2])\n",
    "c = int(sys.argv[3])\n",
    "\n",
    "if a == b == c:\n",
    "    print(\"Gleich\")\n",
    "elif a <= b <= c:  # 1,2,3; 2,2,3; 2,3,3\n",
    "    print(\"Aufsteigend sortiert\")\n",
    "elif a >= b >= c:  # 3,2,1; 3,2,2; 3,3,2\n",
    "    print(\"Absteigend sortiert\")\n",
    "else:\n",
    "    print(\"Unsortiert\")"
   ]
  },
  {
   "cell_type": "markdown",
   "metadata": {},
   "source": [
    "# A2 Variant"
   ]
  },
  {
   "cell_type": "code",
   "execution_count": null,
   "metadata": {},
   "outputs": [],
   "source": [
    "n1 = input(\"Geben Sie den ersten Namen ein: \")\n",
    "n2 = input(\"Geben Sie den zweiten Namen ein: \")\n",
    "n3 = input(\"Geben Sie den dritten Namen ein: \")\n",
    "\n",
    "if n1 < n2 < n3:\n",
    "    print(n1)\n",
    "    print(n2)\n",
    "    print(n3)\n",
    "elif n1 < n3 < n2:\n",
    "    print(n1)\n",
    "    print(n3)\n",
    "    print(n2)\n",
    "elif n2 < n1 < n3:\n",
    "    print(n2)\n",
    "    print(n1)\n",
    "    print(n3)\n",
    "elif n2 < n3 < n1:\n",
    "    print(n2)\n",
    "    print(n3)\n",
    "    print(n1)\n",
    "elif n3 < n1 < n2:\n",
    "    print(n3)\n",
    "    print(n1)\n",
    "    print(n2)\n",
    "elif n3 < n2 < n1:\n",
    "    print(n3)\n",
    "    print(n2)\n",
    "    print(n1)\n"
   ]
  },
  {
   "cell_type": "markdown",
   "metadata": {},
   "source": [
    "# A3 Variant"
   ]
  },
  {
   "cell_type": "code",
   "execution_count": null,
   "metadata": {},
   "outputs": [
    {
     "name": "stdout",
     "output_type": "stream",
     "text": [
      "1\n",
      "2\n",
      "3\n",
      "4\n",
      "6\n"
     ]
    }
   ],
   "source": [
    "x = int(input(\"Bitte geben Sie eine Ganzzahl ein: \"))\n",
    "\n",
    "i = 1\n",
    "while i < x:\n",
    "    if x % i == 0:\n",
    "        print(i)\n",
    "    "
   ]
  },
  {
   "cell_type": "code",
   "execution_count": null,
   "metadata": {},
   "outputs": [],
   "source": []
  }
 ],
 "metadata": {
  "kernelspec": {
   "display_name": "Python 3",
   "language": "python",
   "name": "python3"
  },
  "language_info": {
   "codemirror_mode": {
    "name": "ipython",
    "version": 3
   },
   "file_extension": ".py",
   "mimetype": "text/x-python",
   "name": "python",
   "nbconvert_exporter": "python",
   "pygments_lexer": "ipython3",
   "version": "3.12.8"
  }
 },
 "nbformat": 4,
 "nbformat_minor": 2
}
