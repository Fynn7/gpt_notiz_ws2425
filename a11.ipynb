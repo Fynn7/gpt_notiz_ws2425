{
 "cells": [
  {
   "cell_type": "markdown",
   "metadata": {},
   "source": [
    "# A1 Bubble Sort"
   ]
  },
  {
   "cell_type": "code",
   "execution_count": 46,
   "metadata": {},
   "outputs": [
    {
     "name": "stdout",
     "output_type": "stream",
     "text": [
      "==========================================\n",
      "at 1 th iteration\n",
      "a = [7, 6, 5, 3, 4]\n",
      "---------------------\n",
      "swap at loc 0 1 with values 7 6\n",
      "swap at loc 1 2 with values 7 5\n",
      "swap at loc 2 3 with values 7 3\n",
      "swap at loc 3 4 with values 7 4\n",
      "==========================================\n",
      "at 2 th iteration\n",
      "a = [6, 5, 3, 4, 7]\n",
      "---------------------\n",
      "swap at loc 0 1 with values 6 5\n",
      "swap at loc 1 2 with values 6 3\n",
      "swap at loc 2 3 with values 6 4\n",
      "==========================================\n",
      "at 3 th iteration\n",
      "a = [5, 3, 4, 6, 7]\n",
      "---------------------\n",
      "swap at loc 0 1 with values 5 3\n",
      "swap at loc 1 2 with values 5 4\n",
      "==========================================\n",
      "at 4 th iteration\n",
      "a = [3, 4, 5, 6, 7]\n",
      "---------------------\n",
      "==========================================\n",
      "at 5 th iteration\n",
      "a = [3, 4, 5, 6, 7]\n",
      "---------------------\n",
      "==========================================\n",
      "at 6 th iteration\n",
      "a = [3, 4, 5, 6, 7]\n",
      "---------------------\n",
      "swap_count = 9\n",
      "compare_count = 10\n",
      "1 compares wasted\n"
     ]
    }
   ],
   "source": [
    "def swap(a, x, y):\n",
    "    temp = a[x]\n",
    "    a[x] = a[y]\n",
    "    a[y] = temp\n",
    "\n",
    "\n",
    "def raw_bubble_sort(a):\n",
    "    n = len(a)\n",
    "    for i in range(n, -1, -1):\n",
    "        for x in range(1, i):\n",
    "            if a[x-1] > a[x]:\n",
    "                swap(a, x-1, x)\n",
    "\n",
    "\n",
    "def bubble_sort(a):\n",
    "    compare_count = 0\n",
    "    swap_count = 0\n",
    "    n = len(a)\n",
    "    for i in range(n, -1, -1):\n",
    "        print(\"=\"*42)\n",
    "        print(\"at\", n-i+1, \"th iteration\")\n",
    "        print(\"a =\", a)\n",
    "        print(\"-\"*21)\n",
    "        for x in range(1, i):\n",
    "            compare_count += 1\n",
    "            if a[x-1] > a[x]:\n",
    "                swap_count += 1\n",
    "                print(\"swap at loc\", x-1, x, \"with values\", a[x-1], a[x])\n",
    "                swap(a, x-1, x)\n",
    "    print(\"swap_count =\", swap_count)\n",
    "    # 1+2+3+...+(n-1) = n(n-1)/2 = O(n^2)\n",
    "    print(\"compare_count =\", compare_count)\n",
    "    print(compare_count-swap_count, \"compares wasted\")\n",
    "\n",
    "\n",
    "bubble_sort([7, 6, 5, 3, 4])"
   ]
  },
  {
   "cell_type": "markdown",
   "metadata": {},
   "source": [
    "## Funktionsweise\n",
    "\n",
    "Dieser Algorithmus sortiert ein Array, indem er das größte Element schrittweise nach hinten verschiebt:\n",
    "\n",
    "1. **Äußere Schleife** bestimmt den unsortierten Bereich.\n",
    "\n",
    "```python\n",
    "for i in range(l, -1, -1):\n",
    "    ...\n",
    "    # unsortierter Bereich: 0 bis l\n",
    "```\n",
    "\n",
    "2. **Innere Schleife** tauscht benachbarte Elemente, beginnend bei Index $1$.\n",
    "```python\n",
    "for x in range(1, i):\n",
    "    if a[x-1] > a[x]:\n",
    "        swap(a, x-1, x)\n",
    "```\n",
    "## Zeitkomplexität\n",
    "\n",
    "-   **Kein vorzeitiger Abbruch**, daher sind Best Case, Worst Case und Average Case gleich.\n",
    "-   Selbst ein sortiertes Array wird vollständig verglichen.\n",
    "\n",
    "Für ein Array der Länge $N$:\n",
    "\n",
    "-   **Äußere Schleife** läuft $N$-mal.\n",
    "-   **Innere Schleife** führt $N-1, N-2, ..., 1$ Vergleiche aus, insgesamt:\n",
    "    $$\n",
    "    1 + 2 + ... + (N-1) = \\frac{(N-1) \\cdot N}{2}\n",
    "    $$\n",
    "    Diese Formel berechnet die Anzahl der Vergleiche für beliebige $N$.\n"
   ]
  },
  {
   "cell_type": "markdown",
   "metadata": {},
   "source": [
    "# A2"
   ]
  },
  {
   "cell_type": "code",
   "execution_count": 47,
   "metadata": {},
   "outputs": [
    {
     "name": "stdout",
     "output_type": "stream",
     "text": [
      "==========================================\n",
      "at 1 th iteration\n",
      "a = [64, 25, 12, 22, 11]\n",
      "got min at loc 4 with value 11 swap with loc 0\n",
      "==========================================\n",
      "at 2 th iteration\n",
      "a = [11, 25, 12, 22, 64]\n",
      "got min at loc 2 with value 12 swap with loc 1\n",
      "==========================================\n",
      "at 3 th iteration\n",
      "a = [11, 12, 25, 22, 64]\n",
      "got min at loc 3 with value 22 swap with loc 2\n",
      "==========================================\n",
      "at 4 th iteration\n",
      "a = [11, 12, 22, 25, 64]\n",
      "got min at loc 3 with value 25 swap with loc 3\n",
      "==========================================\n",
      "at 5 th iteration\n",
      "a = [11, 12, 22, 25, 64]\n",
      "got min at loc 4 with value 64 swap with loc 4\n",
      "compare_count = 10\n",
      "result = [11, 12, 22, 25, 64]\n"
     ]
    },
    {
     "data": {
      "text/plain": [
       "[11, 12, 22, 25, 64]"
      ]
     },
     "execution_count": 47,
     "metadata": {},
     "output_type": "execute_result"
    }
   ],
   "source": [
    "def raw_selection_sort(a):\n",
    "    n = len(a)\n",
    "    for i in range(n):\n",
    "        min = i\n",
    "        for x in range(i+1, n):\n",
    "            if a[x] < a[min]:\n",
    "                min = x\n",
    "        swap(a, i, min)\n",
    "\n",
    "\n",
    "def selection_sort(a):\n",
    "    compare_count = 0\n",
    "    n = len(a)\n",
    "    for i in range(n):\n",
    "        print(\"=\"*42)\n",
    "        print(\"at\", i+1, \"th iteration\")\n",
    "        print(\"a =\", a)\n",
    "        min = i\n",
    "        for x in range(i+1, n):\n",
    "            compare_count += 1\n",
    "            if a[x] < a[min]:\n",
    "                min = x\n",
    "        print(\"got min at loc\", min, \"with value\", a[min], \"swap with loc\", i)\n",
    "        swap(a, i, min)\n",
    "    print(\"compare_count =\", compare_count)\n",
    "    print(\"result =\", a)\n",
    "\n",
    "\n",
    "a = [64, 25, 12, 22, 11]\n",
    "selection_sort(a)\n",
    "a"
   ]
  },
  {
   "cell_type": "code",
   "execution_count": 48,
   "metadata": {},
   "outputs": [
    {
     "name": "stdout",
     "output_type": "stream",
     "text": [
      "==========================================\n",
      "at 1 th iteration\n",
      "a = [12, 11, 13, 5, 6]\n",
      "move 12 to 1\n",
      "==========================================\n",
      "at 2 th iteration\n",
      "a = [11, 12, 13, 5, 6]\n",
      "==========================================\n",
      "at 3 th iteration\n",
      "a = [11, 12, 13, 5, 6]\n",
      "move 13 to 3\n",
      "move 12 to 2\n",
      "move 11 to 1\n",
      "==========================================\n",
      "at 4 th iteration\n",
      "a = [5, 11, 12, 13, 6]\n",
      "move 13 to 4\n",
      "move 12 to 3\n",
      "move 11 to 2\n",
      "compare_count = 7\n",
      "result = [5, 6, 11, 12, 13]\n"
     ]
    },
    {
     "data": {
      "text/plain": [
       "[5, 6, 11, 12, 13]"
      ]
     },
     "execution_count": 48,
     "metadata": {},
     "output_type": "execute_result"
    }
   ],
   "source": [
    "def raw_insertion_sort(a):\n",
    "    n = len(a)\n",
    "    for i in range(1, n):\n",
    "        key = a[i]\n",
    "        x = i-1\n",
    "        while x >= 0 and key < a[x]:\n",
    "            a[x+1] = a[x]\n",
    "            x -= 1\n",
    "        a[x+1] = key\n",
    "\n",
    "\n",
    "def insertion_sort(a):\n",
    "    compare_count = 0\n",
    "    n = len(a)\n",
    "    for i in range(1, n):\n",
    "        print(\"=\"*42)\n",
    "        print(\"at\", i, \"th iteration\")\n",
    "        print(\"a =\", a)\n",
    "        key = a[i]\n",
    "        x = i-1\n",
    "        while x >= 0 and key < a[x]:\n",
    "            compare_count += 1\n",
    "            print(\"move\", a[x], \"to\", x+1)\n",
    "            a[x+1] = a[x]\n",
    "            x -= 1\n",
    "        a[x+1] = key\n",
    "    print(\"compare_count =\", compare_count)\n",
    "    print(\"result =\", a)\n",
    "\n",
    "\n",
    "a = [12, 11, 13, 5, 6]\n",
    "insertion_sort(a)\n",
    "a"
   ]
  },
  {
   "cell_type": "markdown",
   "metadata": {},
   "source": [
    "# A3"
   ]
  },
  {
   "cell_type": "code",
   "execution_count": null,
   "metadata": {
    "vscode": {
     "languageId": "java"
    }
   },
   "outputs": [],
   "source": [
    "public class Multi {\n",
    "\tpublic static void main(String[] args) {\n",
    "\t\tString s = args[0];\n",
    "\t\tint n = Integer.parseInt(args[1]);\n",
    "\n",
    "\t\tfor (int i = 0; i < n; i++) {\n",
    "\t\t\tSystem.out.print(s);\n",
    "\t\t}\n",
    "\t}\n",
    "}"
   ]
  }
 ],
 "metadata": {
  "kernelspec": {
   "display_name": "Python 3",
   "language": "python",
   "name": "python3"
  },
  "language_info": {
   "codemirror_mode": {
    "name": "ipython",
    "version": 3
   },
   "file_extension": ".py",
   "mimetype": "text/x-python",
   "name": "python",
   "nbconvert_exporter": "python",
   "pygments_lexer": "ipython3",
   "version": "3.12.8"
  }
 },
 "nbformat": 4,
 "nbformat_minor": 2
}
