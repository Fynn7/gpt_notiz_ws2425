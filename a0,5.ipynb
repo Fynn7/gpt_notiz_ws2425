{
 "cells": [
  {
   "cell_type": "markdown",
   "metadata": {},
   "source": [
    "# Wiederholung"
   ]
  },
  {
   "cell_type": "markdown",
   "metadata": {},
   "source": [
    "————————————————————————————————————————"
   ]
  },
  {
   "cell_type": "markdown",
   "metadata": {},
   "source": [
    "## Datentypen"
   ]
  },
  {
   "cell_type": "markdown",
   "metadata": {},
   "source": [
    "```python\n",
    "str"
   ]
  },
  {
   "cell_type": "code",
   "execution_count": null,
   "metadata": {},
   "outputs": [],
   "source": [
    "print('A')  # Einzelnes Zeichen\n",
    "print(\"\")  # Leerer String\n",
    "print(\"Hello,\" + \" World!\" + '?')  # Konkatenation\n",
    "print(\"Hey! \" * 3)  # Wiederholung"
   ]
  },
  {
   "cell_type": "markdown",
   "metadata": {},
   "source": [
    "### int => str"
   ]
  },
  {
   "cell_type": "code",
   "execution_count": null,
   "metadata": {},
   "outputs": [],
   "source": [
    "print(\"str(42) =>\", str(42))  # Konvertierung in String\n",
    "str(42)\n",
    "type(str(42))"
   ]
  },
  {
   "cell_type": "markdown",
   "metadata": {},
   "source": [
    "————————————————————————————————————————"
   ]
  },
  {
   "cell_type": "markdown",
   "metadata": {},
   "source": [
    "```python\n",
    "int and float"
   ]
  },
  {
   "cell_type": "code",
   "execution_count": null,
   "metadata": {},
   "outputs": [],
   "source": [
    "42\n",
    "42.0\n",
    "+42.  # syntax sugar => 42.0\n",
    ".42  # syntax sugar => 0.42\n",
    "-42e1  # wissenschaftliche Notation: - 42 * 10^1"
   ]
  },
  {
   "cell_type": "markdown",
   "metadata": {},
   "source": [
    "### Konvertierungen"
   ]
  },
  {
   "cell_type": "code",
   "execution_count": null,
   "metadata": {},
   "outputs": [],
   "source": [
    "print(\"int(42) =>\", int(\"42\"),type(int(\"42\")))  # Konvertierung in int\n",
    "print()\n",
    "print(\"float(42.) =>\", float(\"42.\"))  # Konvertierung in float\n",
    "print()\n",
    "print(\"int(42.) =>\", int(42.))  # Konvertierung in int"
   ]
  },
  {
   "cell_type": "markdown",
   "metadata": {},
   "source": [
    "————————————————————————————————————————"
   ]
  },
  {
   "cell_type": "markdown",
   "metadata": {},
   "source": [
    "```python\n",
    "bool"
   ]
  },
  {
   "cell_type": "markdown",
   "metadata": {},
   "source": [
    "boolesche Operatoren\n",
    "```python\n",
    "and | or | not"
   ]
  },
  {
   "cell_type": "code",
   "execution_count": null,
   "metadata": {},
   "outputs": [],
   "source": [
    "True\n",
    "False\n",
    "\n",
    "raining, not_raining = False, True\n",
    "\n",
    "print(\"Raining and not raining at the same time? \", raining and not_raining)\n",
    "print()\n",
    "print(\"Raining or not raining? \", raining or not_raining)\n",
    "print()\n",
    "print(\"not raining == not_raining?\", not raining == not_raining)"
   ]
  },
  {
   "cell_type": "markdown",
   "metadata": {},
   "source": [
    "### Konvertierung"
   ]
  },
  {
   "cell_type": "code",
   "execution_count": null,
   "metadata": {},
   "outputs": [],
   "source": [
    "print(\"bool(-42) =>\", bool(-42))  # Konvertierung in bool\n",
    "print()\n",
    "print(\"bool(0) =>\", bool(0))  # Konvertierung in bool\n",
    "print()\n",
    "print(\"bool(.0) =>\", bool(0.0))  # Konvertierung in bool\n",
    "print()\n",
    "print(\"bool('uqe') =>\", bool('uqe'))  # Konvertierung in bool\n",
    "print()\n",
    "print(\"bool('') =>\", bool(''))  # Konvertierung in bool"
   ]
  },
  {
   "cell_type": "markdown",
   "metadata": {},
   "source": [
    "————————————————————————————————————————"
   ]
  },
  {
   "cell_type": "markdown",
   "metadata": {},
   "source": [
    "# Vergleiche"
   ]
  },
  {
   "cell_type": "markdown",
   "metadata": {},
   "source": [
    "```python\n",
    "== and !="
   ]
  },
  {
   "cell_type": "code",
   "execution_count": null,
   "metadata": {},
   "outputs": [],
   "source": [
    "print(\"1 == 1.0:\", 1 == 1.0)\n",
    "print()\n",
    "print(\"'abc' == 'abc':\", 'abc' == 'abc')\n",
    "print()\n",
    "print(\"'AAA' != 'AaA':\", 'AAA' == 'AaA') # ≠ Groß-/Kleinschreibungsempfindlich\n",
    "# PRINT() # nicht gültig\n",
    "print()\n",
    "print(\"True is False:\", True is False)\n",
    "print()\n",
    "print(\"12 == '12':\", 12 == int('12'))  # Typen sind nicht gleich\n",
    "\n",
    "1 == 1.0"
   ]
  },
  {
   "cell_type": "markdown",
   "metadata": {},
   "source": [
    "————————————————————————————————————————"
   ]
  },
  {
   "cell_type": "markdown",
   "metadata": {},
   "source": [
    "```python\n",
    ">  <  >=  <="
   ]
  },
  {
   "cell_type": "code",
   "execution_count": null,
   "metadata": {},
   "outputs": [],
   "source": [
    "print(\"12 > 12:\", 12 > 12)\n",
    "print()\n",
    "print(\"12 >= 12:\", 12 >= 12)\n",
    "print()\n",
    "print('B' == 'BB')"
   ]
  },
  {
   "cell_type": "markdown",
   "metadata": {},
   "source": [
    "————————————————————————————————————————"
   ]
  },
  {
   "cell_type": "markdown",
   "metadata": {},
   "source": [
    "```python\n",
    "if & else & elif"
   ]
  },
  {
   "cell_type": "code",
   "execution_count": 2,
   "metadata": {},
   "outputs": [],
   "source": [
    "is_raining = int(input(\"Is it raining? (1=True; 0=False) \"))  # Eingabe\n",
    "\n",
    "if is_raining:\n",
    "    print(\"Take an umbrella!\")  # Anweisung"
   ]
  },
  {
   "cell_type": "code",
   "execution_count": 4,
   "metadata": {},
   "outputs": [
    {
     "name": "stdout",
     "output_type": "stream",
     "text": [
      "Unknown weather\n"
     ]
    }
   ],
   "source": [
    "weather=\"jwehghiwnrh\"\n",
    "\n",
    "if weather == \"rainy\":\n",
    "    print(\"It is rainy\")\n",
    "elif weather ==\"sunny\":\n",
    "    print(\"Take the sunglasses\")\n",
    "else:\n",
    "    print(\"Unknown weather\")"
   ]
  },
  {
   "cell_type": "markdown",
   "metadata": {},
   "source": [
    "# Fehlervermeidung"
   ]
  },
  {
   "cell_type": "code",
   "execution_count": null,
   "metadata": {},
   "outputs": [],
   "source": [
    "dividend = 42\n",
    "divisor = 0\n",
    "\n",
    "if divisor == 0:\n",
    "    print(\"Division by zero is not allowed!\")\n",
    "else:\n",
    "    print(\"division result:\", dividend/divisor)\n",
    "# dividend/divisor"
   ]
  },
  {
   "cell_type": "code",
   "execution_count": 5,
   "metadata": {},
   "outputs": [
    {
     "ename": "ZeroDivisionError",
     "evalue": "division by zero",
     "output_type": "error",
     "traceback": [
      "\u001b[1;31m---------------------------------------------------------------------------\u001b[0m",
      "\u001b[1;31mZeroDivisionError\u001b[0m                         Traceback (most recent call last)",
      "Cell \u001b[1;32mIn[5], line 1\u001b[0m\n\u001b[1;32m----> 1\u001b[0m \u001b[38;5;241;43m42\u001b[39;49m\u001b[38;5;241;43m/\u001b[39;49m\u001b[38;5;241;43m0\u001b[39;49m\n",
      "\u001b[1;31mZeroDivisionError\u001b[0m: division by zero"
     ]
    }
   ],
   "source": [
    "42/0"
   ]
  },
  {
   "cell_type": "code",
   "execution_count": null,
   "metadata": {},
   "outputs": [],
   "source": []
  }
 ],
 "metadata": {
  "kernelspec": {
   "display_name": "Python 3",
   "language": "python",
   "name": "python3"
  },
  "language_info": {
   "codemirror_mode": {
    "name": "ipython",
    "version": 3
   },
   "file_extension": ".py",
   "mimetype": "text/x-python",
   "name": "python",
   "nbconvert_exporter": "python",
   "pygments_lexer": "ipython3",
   "version": "3.12.7"
  }
 },
 "nbformat": 4,
 "nbformat_minor": 2
}
