{
 "cells": [
  {
   "cell_type": "markdown",
   "metadata": {},
   "source": [
    "# A1"
   ]
  },
  {
   "cell_type": "code",
   "execution_count": 9,
   "metadata": {},
   "outputs": [
    {
     "data": {
      "text/plain": [
       "11"
      ]
     },
     "execution_count": 9,
     "metadata": {},
     "output_type": "execute_result"
    }
   ],
   "source": [
    "sum([1,2,3,5])"
   ]
  },
  {
   "cell_type": "markdown",
   "metadata": {},
   "source": [
    "Beispiel Eingabe\n",
    "`[1,2,3]`\n",
    "\n",
    "Beispiel Ausgabe\n",
    "`6`"
   ]
  },
  {
   "cell_type": "markdown",
   "metadata": {},
   "source": [
    "## Ohne `sum()`"
   ]
  },
  {
   "cell_type": "code",
   "execution_count": null,
   "metadata": {},
   "outputs": [],
   "source": [
    "s = 0\n",
    "a = [1,2,3,5]\n",
    "for i in a:\n",
    "    s += i\n",
    "print(s)"
   ]
  },
  {
   "cell_type": "code",
   "execution_count": 13,
   "metadata": {},
   "outputs": [
    {
     "name": "stdout",
     "output_type": "stream",
     "text": [
      "Test passed\n",
      "Invalid input: 0 is a <class 'int'> not a list\n"
     ]
    }
   ],
   "source": [
    "def sum_arr(arr):\n",
    "    try:\n",
    "        sum = 0\n",
    "        for i in arr:\n",
    "            sum += i\n",
    "        return sum\n",
    "    except TypeError:\n",
    "        print(\"Invalid input:\",arr,\"is a\",type(arr),\"not a list\")\n",
    "    except Exception as e:\n",
    "        print(\"An error occured:\",e)\n",
    "\n",
    "\n",
    "if sum_arr([1, 2, 3, 5]) == 11 and sum_arr([]) == 0:\n",
    "    print(\"Test passed\")\n",
    "else:\n",
    "    print(\"Test failed\")\n",
    "\n",
    "sum_arr(0)"
   ]
  },
  {
   "cell_type": "markdown",
   "metadata": {},
   "source": [
    "# A1.2\n",
    "\n",
    "Beispiel Eingabe\n",
    "`[1,2,3,0]`\n",
    "\n",
    "Beispiel Ausgabe\n",
    "`0`"
   ]
  },
  {
   "cell_type": "code",
   "execution_count": 7,
   "metadata": {},
   "outputs": [],
   "source": [
    "def mul_arr(arr):\n",
    "    mul = 1\n",
    "    for i in arr:\n",
    "        mul *= i\n",
    "    return mul"
   ]
  },
  {
   "cell_type": "markdown",
   "metadata": {},
   "source": [
    "# A1.3\n",
    "\n",
    "Beispiel Eingabe\n",
    "`[1,2,3]`\n",
    "\n",
    "Beispiel Ausgabe\n",
    "`[1,-1,2,-2,3,-3]`"
   ]
  },
  {
   "cell_type": "code",
   "execution_count": 14,
   "metadata": {},
   "outputs": [
    {
     "data": {
      "text/plain": [
       "[1, -1, 2, -2, 3, -3, 5, -5]"
      ]
     },
     "execution_count": 14,
     "metadata": {},
     "output_type": "execute_result"
    }
   ],
   "source": [
    "def doppel(arr):\n",
    "\td = []\n",
    "\tfor x in arr:\n",
    "\t\td += [x,-x]\n",
    "\treturn d\n",
    "\n",
    "doppel([1,2,3,5])"
   ]
  },
  {
   "cell_type": "markdown",
   "metadata": {},
   "source": [
    "# A2\n",
    "\n",
    "Beispiel Eingabe `int`\n",
    "`5`\n",
    "\n",
    "Beispiel Ausgabe `str`\n",
    "`\"1+2+3+4+5=15\"`"
   ]
  },
  {
   "cell_type": "code",
   "execution_count": 15,
   "metadata": {},
   "outputs": [
    {
     "data": {
      "text/plain": [
       "[]"
      ]
     },
     "execution_count": 15,
     "metadata": {},
     "output_type": "execute_result"
    }
   ],
   "source": [
    "list(range(2,2))"
   ]
  },
  {
   "cell_type": "code",
   "execution_count": null,
   "metadata": {},
   "outputs": [],
   "source": [
    "import sys\n",
    "\n",
    "n = int(sys.argv[1])\n",
    "formula = \"1\"\n",
    "s = 1\n",
    "\n",
    "for i in range(2, n+1):\n",
    "    formula += \" + \" + str(i)\n",
    "    s += i\n",
    "\n",
    "print(formula, \"=\", s)\n"
   ]
  },
  {
   "cell_type": "code",
   "execution_count": null,
   "metadata": {
    "vscode": {
     "languageId": "java"
    }
   },
   "outputs": [],
   "source": [
    "// NatSum.java\n",
    "public class NatSum {\n",
    "\n",
    "    public static void main(String[] args) {\n",
    "        int n = Integer.parseInt(args[0]);\n",
    "        String formula = \"1\";\n",
    "        int s = 1;\n",
    "\n",
    "        for (int i = 2; i <= n; i++) {\n",
    "            formula += \" + \" + i;\n",
    "            s += i;\n",
    "        }\n",
    "        System.out.println(formula + \" = \" + s);\n",
    "    }\n",
    "}\n",
    "// Terminal:\n",
    "// $ java NatSum.java 5\n"
   ]
  }
 ],
 "metadata": {
  "kernelspec": {
   "display_name": "Python 3",
   "language": "python",
   "name": "python3"
  },
  "language_info": {
   "codemirror_mode": {
    "name": "ipython",
    "version": 3
   },
   "file_extension": ".py",
   "mimetype": "text/x-python",
   "name": "python",
   "nbconvert_exporter": "python",
   "pygments_lexer": "ipython3",
   "version": "3.12.8"
  }
 },
 "nbformat": 4,
 "nbformat_minor": 2
}
